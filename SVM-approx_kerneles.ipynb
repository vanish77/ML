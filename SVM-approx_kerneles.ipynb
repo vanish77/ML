{
 "cells": [
  {
   "cell_type": "markdown",
   "metadata": {
    "id": "RYp0bXOFK-hP"
   },
   "source": [
    "# Машинное обучение, ВМК МГУ\n",
    "\n",
    "## Практическое задание 1. Метод опорных векторов и аппроксимация ядер\n",
    "\n",
    "### Общая информация\n",
    "Дата выдачи: 10.02.2022\n",
    "\n",
    "Мягкий дедлайн: 23:30MSK 24.02.2022 **(за каждый день просрочки снимается 1 балл)**\n",
    "\n",
    "Жесткий дедлайн: 23:30MSK 03.03.2022\n",
    "\n",
    "### Оценивание и штрафы\n",
    "Каждая из задач имеет определенную «стоимость» (указана в скобках около задачи). Максимальная оценка за работу — **10 баллов + 4.3 бонусов.**\n",
    "\n",
    "Сдавать задание после указанного жёсткого срока сдачи нельзя. При выставлении неполного балла за задание в связи с наличием ошибок на усмотрение проверяющего предусмотрена возможность исправить работу на указанных в ответном письме условиях.\n",
    "\n",
    "Задание выполняется самостоятельно. «Похожие» решения считаются плагиатом и все задействованные студенты (в том числе те, у кого списали) не могут получить за него больше 0 баллов (подробнее о плагиате см. на странице курса). Если вы нашли решение какого-то из заданий (или его часть) в открытом источнике, необходимо указать ссылку на этот источник в отдельном блоке в конце вашей работы (скорее всего вы будете не единственным, кто это нашел, поэтому чтобы исключить подозрение в плагиате, необходима ссылка на источник).\n",
    "\n",
    "Неэффективная реализация кода может негативно отразиться на оценке.\n",
    "\n",
    "### Формат сдачи\n",
    "Задания сдаются через систему anytask. Посылка должна содержать:\n",
    "   * Ноутбук homework-practice-01-random-features-Username.ipynb\n",
    "\n",
    "Username — ваша фамилия и имя на латинице именно в таком порядке\n",
    "\n",
    "### А также..\n",
    "\n",
    "* Для удобства поиска вопросов, на которые от вас просят ответа, мы пометили их знаком **(?)**\n",
    "* Знак **(!)** означает, что выполнение замечания необходимо для **возможности получения полного балла**\n",
    "* Даем до +0.3 баллов за выдающиеся успехи по субъективному мнению проверяющих. Этот **бонус** не апеллируется"
   ]
  },
  {
   "cell_type": "markdown",
   "metadata": {},
   "source": [
    "<p style=\"color:#de3815;font-size:25px;\">\n",
    "Напоминание об оформлении и выполнении ноутбука\n",
    "</p>"
   ]
  },
  {
   "cell_type": "markdown",
   "metadata": {},
   "source": [
    "* Все строчки должны быть выполнены. Нужно, чтобы output команды можно было увидеть, не запуская ячейки (кроме редких случаев, когда необходимо намеренно скрыть ненужный output, про такие случаи желательно писать пояснения в тексте). **В противном случае -1 балл**\n",
    "* При оформлении ДЗ нужно пользоваться данным файлом в качестве шаблона. Не нужно удалять и видоизменять написанный код и текст, если явно не указана такая возможность. **В противном случае -1 балл**\n",
    "* В anytask обязательно нужно прикреплять отдельно файл с расширением ipynb (не в архиве, а именно отдельно). Если необходимо отправить еще какие-то файлы, то вынесите их в отдельный архив (если файлов много) и пришлите. **В противном случае -0.5 балла**\n",
    "---\n",
    "* Пишите, пожалуйста, выводы и ответы на вопросы в текстовых ячейках/при помощи print в коде. При их отсутствии мы не можем понять, сделали ли вы задание и понимаете, что происходит, и **поэтому будем снижать баллы**\n",
    "* Если алгоритм не сказано реализовывать явно, его всегда можно импортировать из библиотеки.\n",
    "---\n",
    "* Про графики. _Штрафы будут применяться к каждому результату команды отображения графика (plt.show() и др. аналогичные). Исключением являются графики, генерируемые функциями каких-либо сторонних библиотек, если их нельзя кастомизировать_\n",
    "\n",
    "    * должно быть название (plt.title) графика; **В противном случае &ndash; -0.05 балла**\n",
    "    * на графиках должны быть подписаны оси (plt.xlabel, plt.ylabel); **В противном случае &ndash; -0.025 балла за каждую ось**\n",
    "    * должны быть подписаны единицы измерения (если это возможно); **В противном случае &ndash; -0.025 балла за каждую ось**\n",
    "    * все названия должны быть понятны любому человеку, знакомому с терминологией, без заглядывания в код; **В противном случае &ndash; -0.05 балла**\n",
    "    * подписи тиков на осях не должны сливаться как на одной оси, так и между ними; **В противном случае &ndash; -0.025 балла за каждую ось**\n",
    "    * если изображено несколько сущностей на одном холсте (например несколько функций), то необходима поясняющая легенда (plt.legend); **В противном случае &ndash; -0.05 балла**\n",
    "    * все линии на графиках должны быть чётко видны (нет похожих цветов или цветов, сливающихся с фоном); **В противном случае &ndash; -0.05 балла**\n",
    "    * если отображена величина, имеющая очевидный диапазон значений (например, проценты могут быть от 0 до 100), то желательно масштабировать ось на весь диапазон значений (исключением является случай, когда вам необходимо показать малое отличие, которое незаметно в таких масштабах);\n",
    "    * графики должны быть не супер-микро и не супер-макро по размерам, так, чтобы можно было увидеть все, что нужно.\n",
    "    * при необходимости улучшения наглядности графиков, можно пользоваться логарифмической шкалой по осям x/y.\n",
    "    "
   ]
  },
  {
   "cell_type": "markdown",
   "metadata": {
    "id": "vY8vT0W_K-hR"
   },
   "source": [
    "### О задании\n",
    "\n",
    "На занятиях мы подробно обсуждали метод опорных векторов (SVM). В базовой версии в нём нет чего-то особенного — мы всего лишь используем специальную функцию потерь, которая не требует устремлять отступы к бесконечности; ей достаточно, чтобы отступы были не меньше +1. Затем мы узнали, что SVM можно переписать в двойственном виде, который, позволяет заменить скалярные произведения объектов на ядра. Это будет соответствовать построению модели в новом пространстве более высокой размерности, координаты которого представляют собой нелинейные модификации исходных признаков.\n",
    "\n",
    "Ядровой SVM, к сожалению, довольно затратен по памяти (нужно хранить матрицу Грама размера $d \\times d$) и по времени (нужно решать задачу условной оптимизации с квадратичной функцией, а это не очень быстро). Мы обсуждали, что есть способы посчитать новые признаки $\\tilde \\varphi(x)$ на основе исходных так, что скалярные произведения этих новых $\\langle \\tilde \\varphi(x), \\tilde \\varphi(z) \\rangle$ приближают ядро $K(x, z)$.\n",
    "\n",
    "Мы будем исследовать аппроксимации методом **Random Fourier Features (RFF, также в литературе встречается название Random Kitchen Sinks)** для гауссовых ядер. Будем использовать формулы, которые немного отличаются от того, что было на лекциях (мы добавим сдвиги внутрь тригонометрических функций и будем использовать только косинусы, потому что с нужным сдвигом косинус превратится в синус):\n",
    "$$\\tilde \\varphi(x) = (\n",
    "\\cos (w_1^T x + b_1),\n",
    "\\dots,\n",
    "\\cos (w_n^T x + b_n)\n",
    "),$$\n",
    "где $w_j \\sim \\mathcal{N}(0, 1/\\sigma^2)$, $b_j \\sim U[-\\pi, \\pi]$, где\n",
    "\n",
    "$1/\\sigma^2$ --- **дисперсия распределения.**\n",
    "\n",
    "На новых признаках $\\tilde \\varphi(x)$ мы будем строить любую линейную модель.\n",
    "\n",
    "Можно считать, что это некоторая новая парадигма построения сложных моделей. Можно направленно искать сложные нелинейные закономерности в данных с помощью градиентного бустинга или нейронных сетей, а можно просто нагенерировать большое количество случайных нелинейных признаков и надеяться, что быстрая и простая модель (то есть линейная) сможет показать на них хорошее качество. В этом задании мы изучим, насколько работоспособна такая идея.\n",
    "\n",
    "### Алгоритм\n",
    "\n",
    "Вам потребуется реализовать следующий алгоритм:\n",
    "1. Понизить размерность выборки до new_dim с помощью метода главных компонент.\n",
    "\n",
    "2. Для полученной выборки оценить гиперпараметр $\\sigma^2$ с помощью эвристики (рекомендуем считать медиану не по всем парам объектов, а по случайному подмножеству из где-то миллиона пар объектов): $$\\sigma^2 = \\text{median}_{i, j = 1, \\dots, \\ell, i \\neq j} \\left\\{\\sum_{k = 1}^{d} (x_{ik} - x_{jk})^2 \\right\\}$$\n",
    "**Замечание:** обратите внимание на  $i \\neq j$, без этого оценка медианы может быть смещена, а также без этого будут сниматься баллы.\n",
    "\n",
    "3. Сгенерировать n_features наборов весов $w_j$ и сдвигов $b_j$.\n",
    "\n",
    "4. Сформировать n_features новых признаков по формулам, приведённым выше.\n",
    "\n",
    "5. Обучить линейную модель (логистическую регрессию или SVM) на новых признаках.\n",
    "\n",
    "6. Повторить преобразования (PCA, формирование новых признаков) к тестовой выборке и применить модель."
   ]
  },
  {
   "cell_type": "code",
   "execution_count": 2,
   "metadata": {},
   "outputs": [],
   "source": [
    "### Для игнорирования предупреждений \n",
    "import warnings\n",
    "warnings.filterwarnings('ignore')"
   ]
  },
  {
   "cell_type": "markdown",
   "metadata": {},
   "source": [
    "**Напоминание:**\n",
    "    \n",
    "* Все ваши графики должны быть **\"красивыми\"** --- подробнее о том, как их оформлять, можно найти в первом практическом задании. При несоответствии какиму-то из критериев вам могут снять баллы.\n",
    "* Пишите в текстовых ячейках/print в коде ответы на **все вопросы из заданий/просьбы сделать выводы** --- при их отсутствии мы не можем понять, сделали ли вы задание и понимаете, что происходит, и поэтому будем снижать баллы"
   ]
  },
  {
   "cell_type": "markdown",
   "metadata": {
    "id": "N_sGunb7K-hS"
   },
   "source": [
    "Тестировать алгоритм мы будем на данных Fashion MNIST. Ниже код для их загрузки и подготовки."
   ]
  },
  {
   "cell_type": "code",
   "execution_count": 3,
   "metadata": {
    "ExecuteTime": {
     "end_time": "2021-03-05T17:27:31.242377Z",
     "start_time": "2021-03-05T17:27:30.500833Z"
    },
    "id": "YyG6dBfjK-hS"
   },
   "outputs": [],
   "source": [
    "import keras\n",
    "from keras.datasets import fashion_mnist\n",
    "(x_train_pics, y_train), (x_test_pics, y_test) = fashion_mnist.load_data()\n",
    "x_train = x_train_pics.reshape(x_train_pics.shape[0], -1)\n",
    "x_test = x_test_pics.reshape(x_test_pics.shape[0], -1)"
   ]
  },
  {
   "cell_type": "markdown",
   "metadata": {},
   "source": [
    "**ВАЖНОЕ ЗАМЕЧАНИЕ:**\n",
    "\n",
    "Датасет по умолчанию хранится в типе 'uint8', вследствие чего при ручном подсчете дисперсии переменные переполняются и вы получаете неадекватные результаты. Бороться с этим можно преобразованием исходных данных к типу 'float'. Еще один хороший вариант &ndash; использовать специализированные функции из библиотек numpy / scipy и, в частности, **scipy.spatial.distance_matrix**.\n",
    "\n",
    "Ниже приводим подтверждающий пример."
   ]
  },
  {
   "cell_type": "code",
   "execution_count": 4,
   "metadata": {
    "ExecuteTime": {
     "end_time": "2021-03-05T17:40:50.990485Z",
     "start_time": "2021-03-05T17:40:50.949509Z"
    }
   },
   "outputs": [
    {
     "name": "stdout",
     "output_type": "stream",
     "text": [
      "8579094.5\n",
      "54374.0\n"
     ]
    }
   ],
   "source": [
    "import numpy as np\n",
    "\n",
    "indices = np.random.choice(x_train.shape[0], size=2000)\n",
    "print(np.median(np.sum((x_train[indices[:1000]].astype(float) - x_train[indices[1000:]]).astype(float) ** 2, axis=1)))\n",
    "\n",
    "print(np.median(np.sum((x_train[indices[:1000]] - x_train[indices[1000:]]) ** 2, axis=1)))"
   ]
  },
  {
   "cell_type": "code",
   "execution_count": 6,
   "metadata": {},
   "outputs": [],
   "source": [
    "x_train = x_train.astype(float)\n",
    "x_test = x_test.astype(float)"
   ]
  },
  {
   "cell_type": "markdown",
   "metadata": {
    "id": "rJNN55F7K-hT"
   },
   "source": [
    "__Задание 1. (5 баллов)__\n",
    "\n",
    "**А) (4 балла)** Реализуйте алгоритм, описанный выше. Можете воспользоваться шаблоном класса ниже или написать свой интерфейс.\n",
    "\n",
    "Ваша реализация должна поддерживать следующие опции:\n",
    "1. Возможность задавать значения параметров new_dim (по умолчанию 50) и n_features (по умолчанию 1000).\n",
    "2. Возможность включать или выключать предварительное понижение размерности с помощью метода главных компонент.\n",
    "3. Возможность выбирать тип линейной модели (логистическая регрессия или SVM с линейным ядром).\n",
    "\n",
    "\n",
    "**Важно (!)**\n",
    "* Так как мы работаем с линейными моделями, вам необходимо делать нормализацию данных.\n",
    "* Оценка гиперпраметра распределения и построение нового датасета должны быть без питоновских циклов (можно все запрограммировать векторно, используя numpy)\n",
    "\n",
    "**Б) (1 балл)** Протестируйте на данных Fashion MNIST, сформированных кодом выше. Если на тесте у вас получилась доля верных ответов **не ниже 0.84 с параметрами по умолчанию**, то вы всё сделали правильно.\n",
    "\n",
    "**Подсказка**\n",
    "* Использование метода без PCA и без нормализации признаков перед генерацией весов может дать неожиданные результаты. Сами подумайте, почему так может происходить :)"
   ]
  },
  {
   "cell_type": "code",
   "execution_count": 7,
   "metadata": {},
   "outputs": [],
   "source": [
    "from sklearn.decomposition import PCA\n",
    "from sklearn.preprocessing import StandardScaler\n",
    "\n",
    "from sklearn.linear_model import LogisticRegression\n",
    "from sklearn.svm import LinearSVC"
   ]
  },
  {
   "cell_type": "code",
   "execution_count": 9,
   "metadata": {
    "id": "jP8yepx8K-hT"
   },
   "outputs": [],
   "source": [
    "from sklearn.base import BaseEstimator, TransformerMixin\n",
    "\n",
    "\n",
    "class RFFPipeline(BaseEstimator, TransformerMixin):\n",
    "    def __init__(self, n_features=1000, new_dim=50, use_PCA=True, classifier='logreg'):\n",
    "        \"\"\"        \n",
    "        Implements pipeline, which consists of PCA decomposition,\n",
    "        Random Fourier Features approximation and linear classification model.\n",
    "        \n",
    "        n_features, int: amount of synthetic random features generated with RFF approximation.\n",
    "\n",
    "        new_dim, int: PCA output size.\n",
    "        \n",
    "        use_PCA, bool: whether to include PCA preprocessing.\n",
    "        \n",
    "        classifier, string: either 'svm' or 'logreg', a linear classification model to use on top of pipeline.\n",
    "        \n",
    "        Feel free to edit this template for your preferences.    \n",
    "        \"\"\"\n",
    "        self.n_features = n_features\n",
    "        self.use_PCA = use_PCA\n",
    "        self.new_dim = new_dim\n",
    "        self.classifier = classifier\n",
    "        \n",
    "    def fit(self, X, y):\n",
    "        \"\"\"\n",
    "        Fit all parts of algorithm (PCA, RFF, Classification) to training set.\n",
    "        \"\"\"\n",
    "        # Your code here: (￣▽￣)/♫•*¨*•.¸¸♪\n",
    "        self.scaler = StandardScaler()\n",
    "        X = self.scaler.fit_transform(X)\n",
    "        if self.use_PCA:\n",
    "            self.pca = PCA(n_components=self.new_dim)\n",
    "            X = self.pca.fit_transform(X)\n",
    "        indices1 = np.random.choice(X.shape[0], size=1000000)\n",
    "        indices2 = np.random.choice(X.shape[0], size=1000000)\n",
    "        dif = np.array(indices1 - indices2)\n",
    "        ind = np.where(dif != 0)\n",
    "        indices1 = indices1[ind]\n",
    "        indices2 = indices2[ind]\n",
    "        sigma2 = np.median(np.sum((X[indices1] - X[indices2]) ** 2, axis=1))\n",
    "\n",
    "        self.b = np.random.uniform(-np.pi, np.pi, [1, self.n_features])\n",
    "        self.w = np.random.normal(0, 1/np.sqrt(sigma2), [X.shape[1], self.n_features]) #matrix of weights\n",
    "    \n",
    "        X_train_new = np.cos(np.dot(X, self.w) + self.b)\n",
    "\n",
    "        if self.classifier == 'logreg':\n",
    "            self.model = LogisticRegression()\n",
    "        elif self.classifier == 'svm':\n",
    "            self.model = LinearSVC()\n",
    "        else:\n",
    "            raise NotImplementedError \n",
    "    \n",
    "        self.model.fit(X_train_new, y)\n",
    "        \n",
    "        return self\n",
    "\n",
    "    def predict_proba(self, X):\n",
    "        \"\"\"\n",
    "        Apply pipeline to obtain scores for input data.\n",
    "        \"\"\"\n",
    "        # Your code here: (￣▽￣)/♫•*¨*•.¸¸♪\n",
    "        X = self.scaler.transform(X)\n",
    "        if self.use_PCA:\n",
    "            X = self.pca.transform(X)\n",
    "        X_test_new = np.cos(np.dot(X, self.w) + self.b)\n",
    "\n",
    "        probs = self.model.predict_proba(X_test_new)\n",
    "\n",
    "        return probs\n",
    "        \n",
    "    def predict(self, X):\n",
    "        \"\"\"\n",
    "        Apply pipeline to obtain discrete predictions for input data.\n",
    "        \"\"\"\n",
    "        # Your code here: (￣▽￣)/♫•*¨*•.¸¸♪\n",
    "        X = self.scaler.transform(X)\n",
    "        if self.use_PCA:\n",
    "            X = self.pca.transform(X)\n",
    "        X_test_new = np.cos(np.dot(X, self.w) + self.b)\n",
    "\n",
    "        predict = self.model.predict(X_test_new)\n",
    "\n",
    "        return predict"
   ]
  },
  {
   "cell_type": "code",
   "execution_count": 7,
   "metadata": {},
   "outputs": [
    {
     "name": "stdout",
     "output_type": "stream",
     "text": [
      "0.8549\n"
     ]
    }
   ],
   "source": [
    "model = RFFPipeline()\n",
    "model.fit(x_train, y_train)\n",
    "predics = model.predict(x_test)\n",
    "\n",
    "print((predics == y_test).mean())"
   ]
  },
  {
   "cell_type": "markdown",
   "metadata": {
    "id": "HYqQUEi-K-hU"
   },
   "source": [
    "__Задание 2. (3 балла)__\n",
    "\n",
    "_**(?)** Сравните следующие подходы: **(2.5 балла)**_\n",
    "\n",
    "**Подход со случайными признаками = использование RFFPipeline**\n",
    "\n",
    "* 1) Подход со случайными признаками c типом модели = логистическая регрессия vs обучение линейного SVM на исходных признаках.\n",
    "* 2) Подход со случайными признаками c типом модели = линейный SVM  vs обучение линейного SVM на исходных признаках.\n",
    "* 3) Подход со случайными признаками c типом модели = логистическая регрессия vs обучение ядрового SVM на исходных признаках.\n",
    "* 4) Подход со случайными признаками c типом модели = линейный SVM vs обучение ядрового SVM на исходных признаках.\n",
    "* 5) Подход со случайными признаками c типом модели = логистическая регрессия vs вариант, в котором вы понижаете размерность с помощью PCA и обучаете градиентный бустинг. Используйте одну из реализаций CatBoost/LightGBM/XGBoost\n",
    "* 6) Подход со случайными признаками c типом модели = линейный SVM vs вариант, в котором вы понижаете размерность с помощью PCA и обучаете градиентный бустинг. Используйте одну из реализаций CatBoost/LightGBM/XGBoost\n",
    " * 5, 6) **Не забудьте** в этих случаях подобрать число деревьев и длину шага -- здесь, в ноутбуке!\n",
    "\n",
    "_Сделайте выводы: **(0.5 баллов)**_\n",
    "* **(?)** Насколько идея со случайными признаками работает?\n",
    "* **(?)** Сравните как с точки зрения качества, так и с точки зрения скорости обучения и применения.\n",
    "\n",
    "**Важные замечания**\n",
    "* Подход по случайными признаками тестируйте в двух вариантах линейной модели. То есть у вас должно получиться всего 6 пар сравнений.\n",
    "* В подходе со случайными признаками в этом задании можно оставиь все параметры, кроме типа модели, по умолчанию.\n",
    "---\n",
    "* Ядровой SVM может очень долго обучаться, поэтому можно делать любые разумные вещи для ускорения: брать подмножество объектов из обучающей выборки, например.\n",
    "* Если вы решили брать подвыборку для какого-то сравнения, то следите за тем, чтобы оба метода обучались на **одинаковом датасете**. Например, сравнивать подход со случайными признаками, обучая его на всем датасете, против ядрового SVM на подвыборке -- некорректно. Тестирование так же должно происходить на одинаковом датасете.\n",
    "* **(!)** Можно в начале этой секции выделить подвыборку и использовать ее для всех экспериментов, если вам это удобно. Необходимо оставить в таком случае хотя бы 10000 объектов. **За меньшее число будут сниматься баллы**\n",
    "---\n",
    "* При сравнении по времени не забывайте смотреть, во сколько потоков реализован алгоритм. Например, сравнивать алгоритм, с параметром n_jobs=-1 (задействовать все возможные потоки) с однопоточным алгоритмом по времени будет некорректно\n",
    "* Если **неуверены**, корректны ли ваши сравнения по времени, поставьте везде n_jobs=1 \n",
    "* Замеряйте время не только обучения, но и обучения + препроцессинга, если он есть (считайте, что формирование признаков в подходе со случайными признаками входит в понятие алгоритма). Так вы сможете более точно проанализировать временные характеристики подходов. \n",
    "---\n",
    "* Переберите хотя бы 10 различных значений количества деревьев (в разумных пределах и с разумным шагом), хотя бы 5 значений параметра learning rate (по логарифмической шкале). Если не знаете, в каких пределах пребирать, то можно найти материалы по соответствующим градиентным бустингам с разбором того, как обычно параметры перебирают.\n",
    "* Перед использованием линейного подхода необходимо нормализовывать признаки (это обычная практика при применении линейных методов, как вы знаете)\n",
    "* Отображать результаты лучше всего будет в виде таблички (pandas DataFrame например), где отображены результаты как  качеств всех алгоритмов, так и времена работы. Можно использовать графическое отображение через bar_plot. Можно также текстом.\n",
    "---\n",
    "* **(!)** Здесь и далее нигде не должно быть сильных просадок по качеству. То есть, если вы получили где-то качество 0.2/0.3/0.4 итд --- это повод задуматься, что где-то у вас есть бага. Во всех экспериментах мы ожидаем качество на тесте не ниже 0.75. **За меньшее качество будут сниматься баллы**"
   ]
  },
  {
   "cell_type": "code",
   "execution_count": 10,
   "metadata": {},
   "outputs": [],
   "source": [
    "from lightgbm import LGBMClassifier\n",
    "import pandas as pd\n",
    "from time import time\n",
    "from sklearn.pipeline import make_pipeline\n",
    "from sklearn.preprocessing import StandardScaler"
   ]
  },
  {
   "cell_type": "code",
   "execution_count": 11,
   "metadata": {},
   "outputs": [],
   "source": [
    "def get_accuracy(predict, values):\n",
    "    return (predict == values).mean()"
   ]
  },
  {
   "cell_type": "code",
   "execution_count": 15,
   "metadata": {
    "id": "qN8LUlJgK-hV"
   },
   "outputs": [],
   "source": [
    "# Your code here: (￣▽￣)/♫•*¨*•.¸¸♪\n",
    "model1 = RFFPipeline(classifier='logreg')\n",
    "\n",
    "data_time = []\n",
    "data_accuracy = []\n",
    "\n",
    "timer = time()\n",
    "model1.fit(x_train, y_train)\n",
    "predics1 = model1.predict(x_test)\n",
    "data_time.append(time() - timer)\n",
    "data_accuracy.append(get_accuracy(predics1, y_test))\n",
    "\n",
    "timer = time()\n",
    "clf2 = make_pipeline(StandardScaler(), LinearSVC(random_state=0))\n",
    "clf2.fit(x_train, y_train)\n",
    "predics2 = clf2.predict(x_test)\n",
    "data_time.append(time() - timer)\n",
    "data_accuracy.append(get_accuracy(predics2, y_test))"
   ]
  },
  {
   "cell_type": "code",
   "execution_count": 17,
   "metadata": {},
   "outputs": [
    {
     "name": "stdout",
     "output_type": "stream",
     "text": [
      "    Algorithm        Time  Accuracy\n",
      "0  RFF-logreg   19.028777    0.8556\n",
      "1   LinearSVC  441.965041    0.8229\n"
     ]
    }
   ],
   "source": [
    "names = ['RFF-logreg', 'LinearSVC']\n",
    "dict = {'Algorithm' : names, 'Time' : data_time, 'Accuracy' : data_accuracy}\n",
    "df = pd.DataFrame(dict)\n",
    "print(df)"
   ]
  },
  {
   "cell_type": "code",
   "execution_count": 18,
   "metadata": {},
   "outputs": [
    {
     "name": "stdout",
     "output_type": "stream",
     "text": [
      "    Algorithm        Time  Accuracy\n",
      "0  RFF-logreg   19.028777    0.8556\n",
      "1   LinearSVC  441.965041    0.8229\n",
      "2     RFF-svm  289.695266    0.8738\n"
     ]
    }
   ],
   "source": [
    "model1 = RFFPipeline(classifier='svm')\n",
    "\n",
    "timer = time()\n",
    "model1.fit(x_train, y_train)\n",
    "predics1 = model1.predict(x_test)\n",
    "data_time.append(time() - timer)\n",
    "data_accuracy.append(get_accuracy(predics1, y_test))\n",
    "\n",
    "names.append('RFF-svm')\n",
    "dict = {'Algorithm' : names, 'Time' : data_time, 'Accuracy' : data_accuracy}\n",
    "df = pd.DataFrame(dict)\n",
    "print(df)"
   ]
  },
  {
   "cell_type": "code",
   "execution_count": 11,
   "metadata": {},
   "outputs": [],
   "source": [
    "from sklearn.svm import SVC\n",
    "from sklearn.model_selection import GridSearchCV"
   ]
  },
  {
   "cell_type": "code",
   "execution_count": 20,
   "metadata": {},
   "outputs": [
    {
     "name": "stdout",
     "output_type": "stream",
     "text": [
      "    Algorithm        Time  Accuracy\n",
      "0  RFF-logreg   19.028777    0.8556\n",
      "1   LinearSVC  441.965041    0.8229\n",
      "2     RFF-svm  289.695266    0.8738\n",
      "3     RBF-SVC  365.685435    0.8836\n"
     ]
    }
   ],
   "source": [
    "timer = time()\n",
    "clf = make_pipeline(StandardScaler(), SVC(kernel='rbf', random_state=0))\n",
    "clf.fit(x_train, y_train)\n",
    "predics = clf.predict(x_test)\n",
    "data_time.append(time() - timer)\n",
    "data_accuracy.append(get_accuracy(predics, y_test))\n",
    "names.append('RBF-SVC')\n",
    "dict = {'Algorithm' : names, 'Time' : data_time, 'Accuracy' : data_accuracy}\n",
    "df = pd.DataFrame(dict)\n",
    "print(df)"
   ]
  },
  {
   "cell_type": "code",
   "execution_count": 35,
   "metadata": {},
   "outputs": [
    {
     "name": "stdout",
     "output_type": "stream",
     "text": [
      "[  10.           16.68100537   27.82559402   46.41588834   77.42636827\n",
      "  129.1549665   215.443469    359.38136638  599.48425032 1000.        ]\n"
     ]
    }
   ],
   "source": [
    "print(np.logspace(1, 3, 10))"
   ]
  },
  {
   "cell_type": "code",
   "execution_count": 36,
   "metadata": {},
   "outputs": [],
   "source": [
    "learning_rates = np.logspace(-3, 0, 5)\n",
    "n_estimators = [10, 30, 60, 100, 200, 350, 500, 700, 1000, 1500]"
   ]
  },
  {
   "cell_type": "code",
   "execution_count": 19,
   "metadata": {},
   "outputs": [],
   "source": [
    "x_train_new = x_train.copy()\n",
    "scaler = StandardScaler()\n",
    "x_train_new = scaler.fit_transform(x_train_new)\n",
    "pca = PCA(n_components=50)\n",
    "x_train_new = pca.fit_transform(x_train_new)\n",
    "\n",
    "x_test_new = x_test.copy()\n",
    "x_test_new = scaler.transform(x_test_new)\n",
    "x_test_new = pca.transform(x_test_new)\n",
    "\n",
    "times = []\n",
    "accurs = []"
   ]
  },
  {
   "cell_type": "code",
   "execution_count": 21,
   "metadata": {},
   "outputs": [
    {
     "name": "stdout",
     "output_type": "stream",
     "text": [
      "   Learing rate        Time  Accuracy\n",
      "0      0.001000   65.625777    0.8155\n",
      "1      0.005623  104.739236    0.8480\n",
      "2      0.031623  104.049245    0.8698\n",
      "3      0.177828   46.572580    0.5453\n",
      "4      1.000000   14.695150    0.6288\n"
     ]
    }
   ],
   "source": [
    "for lr in learning_rates:\n",
    "    timer = time()\n",
    "    md = LGBMClassifier(random_state=0, learning_rate=lr, n_estimators=700)\n",
    "    md.fit(x_train_new, y_train)\n",
    "    pred = md.predict(x_test_new)\n",
    "    times.append(time() - timer)\n",
    "    accurs.append(get_accuracy(pred, y_test))\n",
    "dic = {'Learing rate' : learning_rates, 'Time' : times, 'Accuracy' : accurs}\n",
    "dfm = pd.DataFrame(dic)\n",
    "print(dfm)"
   ]
  },
  {
   "cell_type": "code",
   "execution_count": 33,
   "metadata": {},
   "outputs": [
    {
     "data": {
      "text/plain": [
       "0.03162277660168379"
      ]
     },
     "execution_count": 33,
     "metadata": {},
     "output_type": "execute_result"
    }
   ],
   "source": [
    "best_lr = dfm['Learing rate'].values[2]\n",
    "best_lr"
   ]
  },
  {
   "cell_type": "code",
   "execution_count": 37,
   "metadata": {},
   "outputs": [
    {
     "name": "stdout",
     "output_type": "stream",
     "text": [
      "   n_estimators        Time  Accuracy\n",
      "0            10    1.398004    0.8057\n",
      "1            30    3.901303    0.8217\n",
      "2            60    8.576244    0.8319\n",
      "3           100   14.753507    0.8440\n",
      "4           200   30.169799    0.8579\n",
      "5           350   47.592388    0.8638\n",
      "6           500   76.143059    0.8684\n",
      "7           700  105.225795    0.8698\n",
      "8          1000  140.322811    0.8714\n",
      "9          1500  211.889263    0.8728\n"
     ]
    }
   ],
   "source": [
    "times = []\n",
    "accurs = []\n",
    "for n in n_estimators:\n",
    "    timer = time()\n",
    "    md = LGBMClassifier(random_state=0, learning_rate=best_lr, n_estimators=n)\n",
    "    md.fit(x_train_new, y_train)\n",
    "    res = md.predict(x_test_new)\n",
    "    times.append(time() - timer)\n",
    "    accurs.append((res == y_test).mean())\n",
    "dic = {'n_estimators' : n_estimators, 'Time' : times, 'Accuracy' : accurs}\n",
    "dfm2 = pd.DataFrame(dic)\n",
    "print(dfm2)"
   ]
  },
  {
   "cell_type": "code",
   "execution_count": 38,
   "metadata": {},
   "outputs": [
    {
     "name": "stdout",
     "output_type": "stream",
     "text": [
      "    n_estimators        Time  Accuracy\n",
      "0             10    1.398004    0.8057\n",
      "1             30    3.901303    0.8217\n",
      "2             60    8.576244    0.8319\n",
      "3            100   14.753507    0.8440\n",
      "4            200   30.169799    0.8579\n",
      "5            350   47.592388    0.8638\n",
      "6            500   76.143059    0.8684\n",
      "7            700  105.225795    0.8698\n",
      "8           1000  140.322811    0.8714\n",
      "9           1500  211.889263    0.8728\n",
      "10          3000  390.600656    0.8760\n"
     ]
    }
   ],
   "source": [
    "n_estimators = [10, 30, 60, 100, 200, 350, 500, 700, 1000, 1500, 3000]\n",
    "timer = time()\n",
    "md = LGBMClassifier(random_state=0, learning_rate=best_lr, n_estimators=3000)\n",
    "md.fit(x_train_new, y_train)\n",
    "res = md.predict(x_test_new)\n",
    "times.append(time() - timer)\n",
    "accurs.append((res == y_test).mean())\n",
    "dic = {'n_estimators' : n_estimators, 'Time' : times, 'Accuracy' : accurs}\n",
    "dfm2 = pd.DataFrame(dic)\n",
    "print(dfm2)"
   ]
  },
  {
   "cell_type": "code",
   "execution_count": 42,
   "metadata": {},
   "outputs": [
    {
     "data": {
      "text/plain": [
       "1500"
      ]
     },
     "execution_count": 42,
     "metadata": {},
     "output_type": "execute_result"
    }
   ],
   "source": [
    "best_n_est = dfm2['n_estimators'].values[9]\n",
    "best_n_est"
   ]
  },
  {
   "cell_type": "code",
   "execution_count": 43,
   "metadata": {},
   "outputs": [
    {
     "name": "stdout",
     "output_type": "stream",
     "text": [
      "Time of fitting and preprocessing of LGMClassifier:  133.82998490333557  (s)\n",
      "Accuracy for LGBMClassifier:  0.8724\n"
     ]
    }
   ],
   "source": [
    "gb = LGBMClassifier(learning_rate = best_lr, n_estimators = best_n_est, random_state=0)\n",
    "timer = time()\n",
    "\n",
    "x_train_new = x_train.copy()\n",
    "scaler = StandardScaler()\n",
    "x_train_new = scaler.fit_transform(x_train_new)\n",
    "pca = PCA(n_components=50)\n",
    "x_train_new = pca.fit_transform(x_train_new)\n",
    "\n",
    "x_test_new = x_test.copy()\n",
    "x_test_new = scaler.transform(x_test_new)\n",
    "x_test_new = pca.transform(x_test_new)\n",
    "\n",
    "gb.fit(x_train_new, y_train)\n",
    "predics = gb.predict(x_test_new)\n",
    "tm = time() - timer\n",
    "accr = get_accuracy(predics, y_test)\n",
    "\n",
    "print('Time of fitting and preprocessing of LGMClassifier: ', tm, ' (s)')\n",
    "print('Accuracy for LGBMClassifier: ', accr)"
   ]
  },
  {
   "attachments": {},
   "cell_type": "markdown",
   "metadata": {},
   "source": [
    "## Выводы из сравнений:\n",
    "1) RFF('logreg') vs LinearSVM на исходных признаках. Метод со случайными признаками на логистической регрессии показывает многократно лучшее время (19 секунд против 442) и заметно превосходящее качество (0.856 против 0.823), чем у линейного SVM.\n",
    "2) RFF('svm') vs LinearSVM на исходных признаках. Метод со случайными признаками на линейном SVM по времени обучения сопоставим с линейным SVM на исходных признаках, тем не менее всё равно проигрывая (290 секунд против 442). Разница в качестве только увелилась со сменой модели для RFF (0.874 против 0.823)\n",
    "3) RFF('logreg') vs SVC(kernel='rbf') на исходных признаках. Ядровой SVM работает более, чем в 10 раз медленнее (366с против 19с), в сравнении с алгоритмом на случайных признаках и логистический регрессией, но компенсирует это тем, что качество выше (0.884 против 0.856)\n",
    "4) RFF('svm') vs SVC(kernel='rbf') на исходных признаках. Предпочтительнее оказывается SVC(kernel='rbf') ввиду лучшего качество на 0.01\n",
    "5) RFF('logreg') vs PCA + LGBMClassifier. RFF показывает качество хуже на 0.02, но приэтом сильно выигрывает в качестве. В зависимости от важности этих параметров в разных ситуациях может оказаться лучшим алгоритм как первый, так и второй.\n",
    "6) RFF('svm') vs PCA + LGBMClassifier. Алгоритмы примерно эквиваленты. На взятых параметрах бустинг слегка проигрывает по качеству, но побеждает по времени. Если взять количество деревьев больше - время увеличится, качество возрастёт.\n",
    "\n",
    "Метод со случайными признаками показывает сопоставимые результаты с такими алгоритмами, как градиентный бустинг, метод опорных векторов с разными ядрами. При некоторых условиях он оказывается приоритетным, так что этот метод точно имеет право на жизнь, и его стоит рассматривать как вариант."
   ]
  },
  {
   "cell_type": "markdown",
   "metadata": {
    "id": "e6umjhWuK-hV"
   },
   "source": [
    "__Задание 3. (2 балла)__\n",
    "\n",
    "Проведите эксперименты **(1.5 балла)** над моделью **RFFPipeline**, после которых вы сможете ответить на следующие вопросы **(?)** **(0.5 балла)**:\n",
    "1. Помогает ли предварительное понижение размерности с помощью PCA? \n",
    "2. Как зависит итоговое качество от n_features? Выходит ли оно на плато при росте n_features?\n",
    "3. Важно ли, какую модель обучать — логистическую регрессию или SVM?\n",
    "\n",
    "**Замечания (!):**\n",
    "* В п.2 необходимо перебрать хотя бы 30 значений признаков по разумной сетке, затрагивающей значения в 50 и в 3000 признаков (или максимальное из того, что позволяет ваш компьтер за разумное время). **За меньшее число признаков и меньшее максимальное значение будут сниматься баллы**\n",
    "* В п.2 используйте логистическую регрессию\n",
    "* В п.2 отобразите качества (accuracy_score) на обучении и на тесте в виде графиков на одном полотне. **За отсутствие будут сниматься баллы**\n",
    "* Везде делайте замеры по времени и результаты включайте в выводы. **За отсутствие будут сниматься баллы**"
   ]
  },
  {
   "cell_type": "code",
   "execution_count": 40,
   "metadata": {
    "id": "c2QIHIMbK-hW"
   },
   "outputs": [
    {
     "name": "stdout",
     "output_type": "stream",
     "text": [
      "Option RFFPipeline with PCA-algorithm: \n",
      "Fitting and preposing time:  22.08081817626953  (s)\n",
      "Accuracy:  0.854\n"
     ]
    }
   ],
   "source": [
    "# Your code here: (￣▽￣)/♫•*¨*•.¸¸♪\n",
    "model_pca = RFFPipeline()\n",
    "timer = time()\n",
    "model_pca.fit(x_train, y_train)\n",
    "predics = model_pca.predict(x_test)\n",
    "print('Option RFFPipeline with PCA-algorithm: ')\n",
    "print('Fitting and preposing time: ', time() - timer, ' (s)')\n",
    "print('Accuracy: ', (predics == y_test).mean())"
   ]
  },
  {
   "cell_type": "code",
   "execution_count": 41,
   "metadata": {},
   "outputs": [
    {
     "name": "stdout",
     "output_type": "stream",
     "text": [
      "Option RFFPipeline without PCA-algorithm: \n",
      "Fitting and preposing time:  44.78738212585449  (s)\n",
      "Accuracy:  0.8619\n"
     ]
    }
   ],
   "source": [
    "model_without_pca = RFFPipeline(use_PCA=False)\n",
    "timer = time()\n",
    "model_without_pca.fit(x_train, y_train)\n",
    "predics = model_without_pca.predict(x_test)\n",
    "print('Option RFFPipeline without PCA-algorithm: ')\n",
    "print('Fitting and preposing time: ', time() - timer, ' (s)')\n",
    "print('Accuracy: ', (predics == y_test).mean())"
   ]
  },
  {
   "attachments": {},
   "cell_type": "markdown",
   "metadata": {},
   "source": [
    "1. \n",
    "Как и можно было предполоожить, PCA помог нам сократить время обучения, уменьшив размерность нашего признакого пространства, и, при этом, снизив показатель точности. С учётом многократного использования модели для проведения экспериментов, эту стратегию можно считатть выигрышной: мы экономим время в 2 раза."
   ]
  },
  {
   "cell_type": "code",
   "execution_count": 22,
   "metadata": {},
   "outputs": [],
   "source": [
    "import matplotlib.pyplot as plt\n",
    "import seaborn as sns\n",
    "import matplotlib\n",
    "%matplotlib inline\n",
    "import matplotlib_inline"
   ]
  },
  {
   "cell_type": "code",
   "execution_count": 64,
   "metadata": {},
   "outputs": [],
   "source": [
    "from sklearn.model_selection import cross_val_score"
   ]
  },
  {
   "cell_type": "code",
   "execution_count": 77,
   "metadata": {},
   "outputs": [
    {
     "data": {
      "text/plain": [
       "array([  50,   58,   66,   76,   88,  101,  117,  134,  155,  178,  205,\n",
       "        236,  272,  313,  361,  416,  479,  551,  635,  731,  842,  970,\n",
       "       1117, 1286, 1481, 1706, 1964, 2262, 2605, 3000])"
      ]
     },
     "execution_count": 77,
     "metadata": {},
     "output_type": "execute_result"
    }
   ],
   "source": [
    "n_features = np.around(np.logspace(np.log10(50), np.log10(3000), 30))\n",
    "n_features = n_features.astype(int)\n",
    "n_features"
   ]
  },
  {
   "cell_type": "code",
   "execution_count": 78,
   "metadata": {},
   "outputs": [],
   "source": [
    "accurs_test = []\n",
    "accurs_train = []\n",
    "times = []\n",
    "\n",
    "for n in n_features:\n",
    "    model = RFFPipeline(n_features=n, use_PCA=False)\n",
    "    timer = time()\n",
    "    model.fit(x_train_new, y_train)\n",
    "    predics = model.predict(x_test_new)\n",
    "    accurs_test.append(get_accuracy(predics, y_test))\n",
    "    accurs_train.append(cross_val_score(model, x_train_new, y_train, cv=5, scoring='accuracy').mean())\n",
    "    times.append(time() - timer)"
   ]
  },
  {
   "cell_type": "code",
   "execution_count": 79,
   "metadata": {},
   "outputs": [
    {
     "name": "stdout",
     "output_type": "stream",
     "text": [
      "test: [0.7448, 0.767, 0.7592, 0.7801, 0.7995, 0.8001, 0.8148, 0.8183, 0.823, 0.832, 0.8337, 0.8347, 0.8399, 0.8446, 0.8469, 0.8489, 0.8503, 0.8533, 0.8542, 0.8564, 0.8547, 0.8592, 0.8627, 0.8586, 0.8626, 0.8632, 0.862, 0.8661, 0.8641, 0.8671]\n",
      "train: [0.7381833333333334, 0.7631333333333333, 0.78, 0.7881666666666667, 0.8017666666666667, 0.8094833333333333, 0.81975, 0.82835, 0.8342833333333333, 0.8382666666666667, 0.84145, 0.84695, 0.8474666666666668, 0.8514833333333331, 0.8554833333333333, 0.8571833333333334, 0.8596666666666666, 0.8625166666666667, 0.8638333333333333, 0.8652000000000001, 0.8660499999999999, 0.8661333333333333, 0.8685499999999999, 0.8689333333333333, 0.8706000000000002, 0.8708499999999999, 0.8708833333333332, 0.8722, 0.8736666666666666, 0.8731666666666665]\n",
      "time (s): [10.562971115112305, 10.94517207145691, 11.288700819015503, 12.845130920410156, 13.239449739456177, 19.655580282211304, 15.210274696350098, 14.960990905761719, 17.440813064575195, 18.523527145385742, 18.45970320701599, 19.077799320220947, 20.271302938461304, 24.277945041656494, 26.19809103012085, 47.61510920524597, 45.746082067489624, 50.288042306900024, 56.9115788936615, 61.92216420173645, 70.25525093078613, 77.85730314254761, 88.3310809135437, 98.4752938747406, 111.65789699554443, 127.24812293052673, 156.27462482452393, 176.85554790496826, 200.5322551727295, 222.41544699668884]\n"
     ]
    }
   ],
   "source": [
    "print('test:', accurs_test)\n",
    "print('train:', accurs_train)\n",
    "print('time (s):', times)"
   ]
  },
  {
   "cell_type": "code",
   "execution_count": 84,
   "metadata": {},
   "outputs": [
    {
     "data": {
      "image/png": "[encoded data removed]",
      "text/plain": [
       "<Figure size 600x400 with 1 Axes>"
      ]
     },
     "metadata": {},
     "output_type": "display_data"
    }
   ],
   "source": [
    "plt.figure(figsize=(6, 4))\n",
    "plt.grid(True)\n",
    "plt.plot(n_features, accurs_train, label='Train sample')\n",
    "plt.plot(n_features, accurs_test, label='Test sample')\n",
    "plt.xlabel(\"Number of features\")\n",
    "plt.ylabel(\"Accuracy\")\n",
    "plt.legend()\n",
    "plt.title('Dependence of accuracy on n_features')\n",
    "plt.show()"
   ]
  },
  {
   "cell_type": "code",
   "execution_count": 87,
   "metadata": {},
   "outputs": [
    {
     "data": {
      "image/png": "[encoded data removed]",
      "text/plain": [
       "<Figure size 500x300 with 1 Axes>"
      ]
     },
     "metadata": {},
     "output_type": "display_data"
    }
   ],
   "source": [
    "plt.figure(figsize=(5, 3))\n",
    "plt.grid(True)\n",
    "plt.plot(n_features, times)\n",
    "plt.xlabel(\"Number of features\")\n",
    "plt.ylabel(\"Time (s)\")\n",
    "plt.title('Dependence of fitting time on n_features')\n",
    "plt.show()"
   ]
  },
  {
   "attachments": {},
   "cell_type": "markdown",
   "metadata": {},
   "source": [
    "2. \n",
    "Из графиков видно, что при росте количества признаков качество выходит на плато. Примерно после 1500 признаков дальнейшие увелечения не будут приводить к весомому повышению качества, что нельзя сказать о времени выполнения алгоритма: на втором графике показано, что зависимость времени от количества признаков - линейная."
   ]
  },
  {
   "attachments": {},
   "cell_type": "markdown",
   "metadata": {},
   "source": [
    "3. \n",
    "Из предыдущих эксперипентов видно, что при использовании логистический регрессии в методе RFF мы сильно выигрываем во времени (порядка 10 раз), но имеем при этом худшее качество (из сравнений с обычными методами на логистической регрессии качество было 0.8556, а на svm 0.8738)"
   ]
  },
  {
   "cell_type": "markdown",
   "metadata": {
    "id": "CJqXVuasK-hW"
   },
   "source": [
    "### Бонус"
   ]
  },
  {
   "cell_type": "markdown",
   "metadata": {
    "id": "QVDWHCdrK-hX"
   },
   "source": [
    "__Задание 4. (Максимум 2 балла)__\n",
    "\n",
    "Многие алгоритмы машинного обучения работают лучше, если признаки данных некоррелированы. Оказывается, что для RFF существует модификация, позволяющая получать ортогональные случайные признаки (Orthogonal Random Features, ORF). Об этом методе можно прочитать в [статье](https://arxiv.org/abs/1610.09072#:~:text=We%20call%20this%20technique%20Orthogonal,to%20speed%20up%20the%20computation). Реализуйте класс для вычисления ORF по аналогии с основным заданием. Обратите внимание, что ваш класс должен уметь работать со случаем n_features > new_dim (в статье есть замечание на этот счет). Проведите эксперименты, сравнивающие RFF и ORF, **(?)** сделайте выводы.\n",
    "\n",
    "**Замечание:**\n",
    "* Сравнения делайте как по времени, так и по качеству.\n",
    "* Можно сравнивать качество двух методов на разном числе признаков, в таком случае очень полезным будет график зависимости качества от числа признаков"
   ]
  },
  {
   "cell_type": "code",
   "execution_count": 20,
   "metadata": {
    "id": "HSxvGI9iK-hX"
   },
   "outputs": [],
   "source": [
    "# Your code here: (￣▽￣)/♫•*¨*•.¸¸♪\n",
    "from scipy.stats import chi2\n",
    "\n",
    "class ORFPipeline(BaseEstimator, TransformerMixin):\n",
    "    def __init__(self, n_features=1000, new_dim=50, use_PCA=True, classifier='logreg'):\n",
    "        \"\"\"        \n",
    "        Implements pipeline, which consists of PCA decomposition,\n",
    "        Random Fourier Features approximation and linear classification model.\n",
    "        \n",
    "        n_features, int: amount of synthetic random features generated with RFF approximation.\n",
    "\n",
    "        new_dim, int: PCA output size.\n",
    "        \n",
    "        use_PCA, bool: whether to include PCA preprocessing.\n",
    "        \n",
    "        classifier, string: either 'svm' or 'logreg', a linear classification model to use on top of pipeline.\n",
    "        \n",
    "        Feel free to edit this template for your preferences.    \n",
    "        \"\"\"\n",
    "        self.n_features = n_features\n",
    "        self.use_PCA = use_PCA\n",
    "        self.new_dim = new_dim\n",
    "        self.classifier = classifier\n",
    "        \n",
    "    def fit(self, X, y):\n",
    "        \"\"\"\n",
    "        Fit all parts of algorithm (PCA, RFF, Classification) to training set.\n",
    "        \"\"\"\n",
    "        # Your code here: (￣▽￣)/♫•*¨*•.¸¸♪\n",
    "        self.scaler = StandardScaler()\n",
    "        X = self.scaler.fit_transform(X)\n",
    "        if self.use_PCA:\n",
    "            self.pca = PCA(n_components=self.new_dim)\n",
    "            X = self.pca.fit_transform(X)\n",
    "        indices1 = np.random.choice(X.shape[0], size=1000000)\n",
    "        indices2 = np.random.choice(X.shape[0], size=1000000)\n",
    "        dif = np.array(indices1 - indices2)\n",
    "        ind = np.where(dif != 0)\n",
    "        indices1 = indices1[ind]\n",
    "        indices2 = indices2[ind]\n",
    "        sigma2 = np.median(np.sum((X[indices1] - X[indices2]) ** 2, axis=1))\n",
    "\n",
    "        self.b = np.random.uniform(-np.pi, np.pi, [1, self.n_features])\n",
    "        W = np.random.normal(0, 1/np.sqrt(sigma2), [self.n_features, self.n_features]) #matrix of weights\n",
    "        Q = np.linalg.qr(W)[0]\n",
    "        if self.new_dim < self.n_features:\n",
    "            Q = Q[:self.new_dim]\n",
    "        vector_Xi = np.sqrt(np.array(chi2.rvs(self.n_features, size=Q.shape[0])))\n",
    "        S = np.diag(vector_Xi)\n",
    "        self.w = 1/np.sqrt(sigma2) * np.dot(S, Q)\n",
    "        if self.new_dim > self.n_features:\n",
    "            while self.w.shape[0] < self.new_dim:\n",
    "                W = np.random.normal(0, 1/np.sqrt(sigma2), [self.n_features, self.n_features]) #matrix of weights\n",
    "                Q = np.linalg.qr(W)[0]\n",
    "                if self.new_dim - self.w.shape[0] < Q.shape[0]:\n",
    "                    thr = self.new_dim - self.w.shape[0]\n",
    "                    Q = Q[:thr]\n",
    "                vector_Xi = np.sqrt(np.array(chi2.rvs(self.n_features, size=Q.shape[0])))\n",
    "                S = np.diag(vector_Xi)\n",
    "                self.w = np.vstack((self.w, 1/np.sqrt(sigma2) * np.dot(S, Q)))\n",
    "    \n",
    "        X_train_new = np.cos(np.dot(X, self.w) + self.b)\n",
    "\n",
    "        if self.classifier == 'logreg':\n",
    "            self.model = LogisticRegression()\n",
    "        elif self.classifier == 'svm':\n",
    "            self.model = LinearSVC()\n",
    "        else:\n",
    "            raise NotImplementedError \n",
    "    \n",
    "        self.model.fit(X_train_new, y)\n",
    "        \n",
    "        return self\n",
    "\n",
    "    def predict_proba(self, X):\n",
    "        \"\"\"\n",
    "        Apply pipeline to obtain scores for input data.\n",
    "        \"\"\"\n",
    "        # Your code here: (￣▽￣)/♫•*¨*•.¸¸♪\n",
    "        X = self.scaler.transform(X)\n",
    "        if self.use_PCA:\n",
    "            X = self.pca.transform(X)\n",
    "        X_test_new = np.cos(np.dot(X, self.w) + self.b)\n",
    "\n",
    "        probs = self.model.predict_proba(X_test_new)\n",
    "\n",
    "        return probs\n",
    "        \n",
    "    def predict(self, X):\n",
    "        \"\"\"\n",
    "        Apply pipeline to obtain discrete predictions for input data.\n",
    "        \"\"\"\n",
    "        # Your code here: (￣▽￣)/♫•*¨*•.¸¸♪\n",
    "        X = self.scaler.transform(X)\n",
    "        if self.use_PCA:\n",
    "            X = self.pca.transform(X)\n",
    "        X_test_new = np.cos(np.dot(X, self.w) + self.b)\n",
    "\n",
    "        predict = self.model.predict(X_test_new)\n",
    "\n",
    "        return predict"
   ]
  },
  {
   "cell_type": "code",
   "execution_count": 16,
   "metadata": {},
   "outputs": [
    {
     "data": {
      "text/plain": [
       "array([  50,   64,   81,  104,  132,  168,  215,  274,  349,  445,  568,\n",
       "        724,  923, 1176, 1500])"
      ]
     },
     "execution_count": 16,
     "metadata": {},
     "output_type": "execute_result"
    }
   ],
   "source": [
    "n_features = np.around(np.logspace(np.log10(50), np.log10(1500), 15))\n",
    "n_features = n_features.astype(int)\n",
    "n_features"
   ]
  },
  {
   "cell_type": "code",
   "execution_count": 21,
   "metadata": {},
   "outputs": [],
   "source": [
    "accurs_rff = []\n",
    "accurs_orf_log_test = []\n",
    "times_rff = []\n",
    "times_orf_log = []\n",
    "\n",
    "for n in n_features:\n",
    "    model_rff = RFFPipeline(n_features=n, use_PCA=False)\n",
    "    model_orf_log = ORFPipeline(n_features=n, use_PCA=False)\n",
    "\n",
    "    timer = time()\n",
    "    model_orf_log.fit(x_train_new, y_train)\n",
    "    predics = model_orf_log.predict(x_test_new)\n",
    "    times_orf_log.append(time() - timer)\n",
    "    accurs_orf_log_test.append(get_accuracy(predics, y_test))\n",
    "\n",
    "    timer = time()\n",
    "    model_rff.fit(x_train_new, y_train)\n",
    "    predics = model_rff.predict(x_test_new)\n",
    "    times_rff.append(time() - timer)\n",
    "    accurs_rff.append(get_accuracy(predics, y_test))"
   ]
  },
  {
   "cell_type": "code",
   "execution_count": null,
   "metadata": {},
   "outputs": [
    {
     "data": {
      "image/png": "[encoded data removed]",
      "text/plain": [
       "<Figure size 1000x400 with 2 Axes>"
      ]
     },
     "metadata": {},
     "output_type": "display_data"
    }
   ],
   "source": [
    "fig = plt.figure(figsize=(10, 4))\n",
    "plt.subplot(1, 2, 1)\n",
    "plt.grid()\n",
    "plt.plot(n_features, accurs_rff, label='RFF-logreg')\n",
    "plt.plot(n_features, accurs_orf_log_test, label='ORF-logreg')\n",
    "plt.xlabel(\"Number of features\")\n",
    "plt.ylabel(\"Accuracy\")\n",
    "plt.legend()\n",
    "plt.title('Comparasion RRF and ORF - accuracy')\n",
    "\n",
    "plt.subplot(1, 2, 2)\n",
    "plt.grid()\n",
    "plt.plot(n_features, times_rff, label='RFF-logreg')\n",
    "plt.plot(n_features, times_orf_log, label='ORF-logreg')\n",
    "plt.xlabel(\"Number of features\")\n",
    "plt.ylabel(\"Time (s)\")\n",
    "plt.legend()\n",
    "plt.title('Comparasion RRF and ORF - time')\n",
    "\n",
    "plt.show()"
   ]
  },
  {
   "attachments": {},
   "cell_type": "markdown",
   "metadata": {},
   "source": [
    "ORF и RFF, как видно из графиков, довольно похожи: как по времени, так и по accuracy. Такие выводы можно сделать из варианта с логистической регрессией; на svm провести не получилось - очень долго считается. Как и в случае RFF, ORF с SVM считается вомного больше варианта с LogReg, при этом показывая лучшее качество."
   ]
  },
  {
   "cell_type": "markdown",
   "metadata": {
    "id": "4pc7-1jmK-hY"
   },
   "source": [
    "__Задание 5. (Максимум 2 балла)__\n",
    "\n",
    "Поэкспериментируйте с функциями для вычисления новых случайных признаков. Не обязательно использовать косинус от скалярного произведения — можно брать знак от него, хэш и т.д. Придумайте побольше вариантов для генерации признаков и проверьте, не получается ли с их помощью добиваться более высокого качества. Также можете попробовать другой классификатор поверх случайных признаков, **(?)** сравните результаты."
   ]
  },
  {
   "cell_type": "markdown",
   "metadata": {},
   "source": [
    "**Замечание:**\n",
    "* Сравнения делайте как по времени, так и по качеству.\n",
    "* В качестве основной модели можете брать как RFF, так и ORF. А можете и то и другое :)"
   ]
  },
  {
   "cell_type": "code",
   "execution_count": 12,
   "metadata": {},
   "outputs": [],
   "source": [
    "x_train_new = x_train.copy()\n",
    "scaler = StandardScaler()\n",
    "x_train_new = scaler.fit_transform(x_train_new)\n",
    "pca = PCA(n_components=50)\n",
    "x_train_new = pca.fit_transform(x_train_new)\n",
    "\n",
    "x_test_new = x_test.copy()\n",
    "x_test_new = scaler.transform(x_test_new)\n",
    "x_test_new = pca.transform(x_test_new)"
   ]
  },
  {
   "cell_type": "code",
   "execution_count": 13,
   "metadata": {
    "id": "dWj-O2vjK-hY"
   },
   "outputs": [],
   "source": [
    "class RFFPipeline_sigmoid(BaseEstimator, TransformerMixin):\n",
    "    def __init__(self, n_features=1000, new_dim=50, use_PCA=True, classifier='logreg'):\n",
    "        self.n_features = n_features\n",
    "        self.use_PCA = use_PCA\n",
    "        self.new_dim = new_dim\n",
    "        self.classifier = classifier\n",
    "        \n",
    "    def fit(self, X, y):\n",
    "        self.scaler = StandardScaler()\n",
    "        X = self.scaler.fit_transform(X)\n",
    "        if self.use_PCA:\n",
    "            self.pca = PCA(n_components=self.new_dim)\n",
    "            X = self.pca.fit_transform(X)\n",
    "        indices1 = np.random.choice(X.shape[0], size=1000000)\n",
    "        indices2 = np.random.choice(X.shape[0], size=1000000)\n",
    "        dif = np.array(indices1 - indices2)\n",
    "        ind = np.where(dif != 0)\n",
    "        indices1 = indices1[ind]\n",
    "        indices2 = indices2[ind]\n",
    "        sigma2 = np.median(np.sum((X[indices1] - X[indices2]) ** 2, axis=1))\n",
    "\n",
    "        self.b = np.random.uniform(-np.pi, np.pi, [1, self.n_features])\n",
    "        self.w = np.random.normal(0, 1/np.sqrt(sigma2), [X.shape[1], self.n_features]) #matrix of weights\n",
    "    \n",
    "        X_train_new = 1/(1+np.exp(-(np.dot(X, self.w) + self.b))) #sigmoid\n",
    "\n",
    "        if self.classifier == 'logreg':\n",
    "            self.model = LogisticRegression()\n",
    "        elif self.classifier == 'svm':\n",
    "            self.model = LinearSVC()\n",
    "        else:\n",
    "            raise NotImplementedError \n",
    "    \n",
    "        self.model.fit(X_train_new, y)\n",
    "        \n",
    "        return self\n",
    "        \n",
    "    def predict(self, X):\n",
    "        X = self.scaler.transform(X)\n",
    "        if self.use_PCA:\n",
    "            X = self.pca.transform(X)\n",
    "        X_test_new = 1/(1+np.exp(-(np.dot(X, self.w) + self.b))) #sigmoid\n",
    "\n",
    "        predict = self.model.predict(X_test_new)\n",
    "\n",
    "        return predict"
   ]
  },
  {
   "cell_type": "code",
   "execution_count": 14,
   "metadata": {},
   "outputs": [],
   "source": [
    "class RFFPipeline_sign(BaseEstimator, TransformerMixin):\n",
    "    def __init__(self, n_features=1000, new_dim=50, use_PCA=True, classifier='logreg'):\n",
    "        self.n_features = n_features\n",
    "        self.use_PCA = use_PCA\n",
    "        self.new_dim = new_dim\n",
    "        self.classifier = classifier\n",
    "        \n",
    "    def fit(self, X, y):\n",
    "        self.scaler = StandardScaler()\n",
    "        X = self.scaler.fit_transform(X)\n",
    "        if self.use_PCA:\n",
    "            self.pca = PCA(n_components=self.new_dim)\n",
    "            X = self.pca.fit_transform(X)\n",
    "        indices1 = np.random.choice(X.shape[0], size=1000000)\n",
    "        indices2 = np.random.choice(X.shape[0], size=1000000)\n",
    "        dif = np.array(indices1 - indices2)\n",
    "        ind = np.where(dif != 0)\n",
    "        indices1 = indices1[ind]\n",
    "        indices2 = indices2[ind]\n",
    "        sigma2 = np.median(np.sum((X[indices1] - X[indices2]) ** 2, axis=1))\n",
    "\n",
    "        self.b = np.random.uniform(-np.pi, np.pi, [1, self.n_features])\n",
    "        self.w = np.random.normal(0, 1/np.sqrt(sigma2), [X.shape[1], self.n_features]) #matrix of weights\n",
    "    \n",
    "        X_train_new = np.sign(np.dot(X, self.w) + self.b) #sign\n",
    "\n",
    "        if self.classifier == 'logreg':\n",
    "            self.model = LogisticRegression()\n",
    "        elif self.classifier == 'svm':\n",
    "            self.model = LinearSVC()\n",
    "        else:\n",
    "            raise NotImplementedError \n",
    "    \n",
    "        self.model.fit(X_train_new, y)\n",
    "        \n",
    "        return self\n",
    "        \n",
    "    def predict(self, X):\n",
    "        X = self.scaler.transform(X)\n",
    "        if self.use_PCA:\n",
    "            X = self.pca.transform(X)\n",
    "        X_test_new = np.sign(np.dot(X, self.w) + self.b) #sign\n",
    "\n",
    "        predict = self.model.predict(X_test_new)\n",
    "\n",
    "        return predict"
   ]
  },
  {
   "cell_type": "code",
   "execution_count": 17,
   "metadata": {},
   "outputs": [],
   "source": [
    "accurs_rff_sigmoid = []\n",
    "accurs_rff_sign = []\n",
    "times_rff_sigmoid = []\n",
    "times_rff_sign = []\n",
    "\n",
    "for n in n_features:\n",
    "    model_rff_sigmoid = RFFPipeline_sigmoid(n_features=n, use_PCA=False)\n",
    "    model_rff_sign = RFFPipeline_sign(n_features=n, use_PCA=False)\n",
    "\n",
    "    timer = time()\n",
    "    model_rff_sigmoid.fit(x_train_new, y_train)\n",
    "    predics = model_rff_sigmoid.predict(x_test_new)\n",
    "    times_rff_sigmoid.append(time() - timer)\n",
    "    accurs_rff_sigmoid.append(get_accuracy(predics, y_test))\n",
    "    \n",
    "    timer = time()\n",
    "    model_rff_sign.fit(x_train_new, y_train)\n",
    "    predics = model_rff_sign.predict(x_test_new)\n",
    "    times_rff_sign.append(time() - timer)\n",
    "    accurs_rff_sign.append(get_accuracy(predics, y_test))"
   ]
  },
  {
   "cell_type": "code",
   "execution_count": 23,
   "metadata": {},
   "outputs": [
    {
     "data": {
      "image/png": "[encoded data removed]",
      "text/plain": [
       "<Figure size 1200x400 with 2 Axes>"
      ]
     },
     "metadata": {},
     "output_type": "display_data"
    }
   ],
   "source": [
    "fig = plt.figure(figsize=(12, 4))\n",
    "plt.subplot(1, 2, 1)\n",
    "plt.grid()\n",
    "plt.plot(n_features, accurs_orf_log_test, label='ORF-cos')\n",
    "plt.plot(n_features, accurs_rff_sign, label='RFF-sign')\n",
    "plt.plot(n_features, accurs_rff_sigmoid, label='RFF-sigmoid')\n",
    "plt.plot(n_features, accurs_rff, label='RFF-cos')\n",
    "plt.xlabel(\"Number of features\")\n",
    "plt.ylabel(\"Accuracy\")\n",
    "plt.legend()\n",
    "plt.title('Dependence of accuracy on function in RFF(ORF)')\n",
    "\n",
    "plt.subplot(1, 2, 2)\n",
    "plt.grid()\n",
    "plt.plot(n_features, times_orf_log, label='ORF-cos')\n",
    "plt.plot(n_features, times_rff, label='RFF-cos')\n",
    "plt.plot(n_features, times_rff_sigmoid, label='RFF-sigmoid')\n",
    "plt.plot(n_features, times_rff_sign, label='RFF-sign')\n",
    "plt.xlabel(\"Number of features\")\n",
    "plt.ylabel(\"Time (s)\")\n",
    "plt.legend()\n",
    "plt.title('Dependence of fitting time on function in RFF(ORF)')\n",
    "\n",
    "plt.show()"
   ]
  },
  {
   "attachments": {},
   "cell_type": "markdown",
   "metadata": {},
   "source": [
    "В данном эксперименте мы сравнили RFF со sign, sigmoid, cos от скалярного произведения. Самая простая модель с знаком скалярного произведения показывает худшее качество, как видно из графика. Сигмоиде также не удаётся превзойти косинус, но она оказалась достаточно близкой к нему. Что касается времени, варианты функции для RFF показывают схожее время, а вариант с ORF чуть опережает все модели на RFF."
   ]
  }
 ],
 "metadata": {
  "colab": {
   "collapsed_sections": [],
   "name": "homework-practice-08-random-features.ipynb",
   "provenance": []
  },
  "kernelspec": {
   "display_name": "env_tf",
   "language": "python",
   "name": "python3"
  },
  "language_info": {
   "codemirror_mode": {
    "name": "ipython",
    "version": 3
   },
   "file_extension": ".py",
   "mimetype": "text/x-python",
   "name": "python",
   "nbconvert_exporter": "python",
   "pygments_lexer": "ipython3",
   "version": "3.8.16"
  },
  "vscode": {
   "interpreter": {
    "hash": "5e10f69e603f908fe68590d95ab5ce733fe5008b9e52c2e3b147332ee2550f3d"
   }
  }
 },
 "nbformat": 4,
 "nbformat_minor": 1
}
